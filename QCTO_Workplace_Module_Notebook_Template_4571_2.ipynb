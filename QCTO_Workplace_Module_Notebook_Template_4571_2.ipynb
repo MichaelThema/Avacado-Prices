{
  "cells": [
    {
      "cell_type": "markdown",
      "metadata": {
        "id": "KXaeOuZ9_qmU"
      },
      "source": [
        "# QCTO - Workplace Module\n",
        "\n",
        "### Project Title: Exploring Hass Avocado Market Trends: A Data-Driven Analysis of Sales and Pricing (2015-2023)\n",
        "#### Done By: Michael Thema\n",
        "\n",
        "© ExploreAI 2024\n",
        "\n",
        "---\n",
        "\n",
        "## Table of Contents\n",
        "\n",
        "<a href=#BC> Background Context</a>\n",
        "\n",
        "<a href=#one>1. Importing Packages</a>\n",
        "\n",
        "<a href=#two>2. Data Collection and Description</a>\n",
        "\n",
        "<a href=#three>3. Loading Data </a>\n",
        "\n",
        "<a href=#four>4. Data Cleaning and Filtering</a>\n",
        "\n",
        "<a href=#five>5. Exploratory Data Analysis (EDA)</a>\n",
        "\n",
        "<a href=#six>6. Modeling </a>\n",
        "\n",
        "<a href=#seven>7. Evaluation and Validation</a>\n",
        "\n",
        "<a href=#eight>8. Final Model</a>\n",
        "\n",
        "<a href=#nine>9. Conclusion and Future Work</a>\n",
        "\n",
        "<a href=#ten>10. References</a>"
      ]
    },
    {
      "cell_type": "markdown",
      "metadata": {
        "id": "lGNzy_6r_qmW"
      },
      "source": [
        "The purpose of this project is to analyze the sales and pricing trends of Hass avocados in the United States from 2015 to 2023. The project aims to provide insights into how various factors, such as seasonality, regional differences, and economic conditions, influence avocado prices and sales volumes. By understanding these dynamics, the project seeks to help stakeholders—such as producers, retailers, and consumers—make more informed decisions regarding avocado pricing strategies, inventory management, and market expansion.\n",
        "\n",
        "Goals\n",
        "\n",
        "The specific goals of the project include:\n",
        "\n",
        "**Trend Analysis:** Examine historical trends in avocado prices and sales volumes over the given period, identifying patterns that may be linked to seasonal or regional factors.\n",
        "\n",
        "**Regional Comparison:** Compare avocado market dynamics across different regions to understand how local conditions affect pricing and sales.\n",
        "\n",
        "**Predictive Modeling:** Develop models to forecast future avocado prices and sales volumes, aiding in planning and decision-making.\n",
        "\n",
        "**Impact Assessment:** Assess the impact of external factors, such as economic changes or shifts in consumer preferences, on the avocado market.\n",
        "\n",
        "Understanding the factors that influence the avocado market is critical for several reasons:\n",
        "\n",
        "**Market Stability:** Producers and retailers can use the insights from this analysis to stabilize their supply chains, avoiding potential losses due to unexpected price fluctuations or supply shortages.\n",
        "\n",
        "**Consumer Insights:** By understanding the pricing trends and demand dynamics, consumers can make more informed purchasing decisions, potentially leading to cost savings.\n",
        "\n",
        "**Strategic Planning:** The findings from this project can assist in long-term strategic planning for stakeholders in the avocado industry, including decisions on where to focus marketing efforts or when to adjust pricing strategies."
      ]
    },
    {
      "cell_type": "markdown",
      "source": [
        "## GITHUB REPO\n",
        "[Click here to view the project repo](https://github.com/MichaelThema/Avacado-Prices.git)\n",
        "\n",
        "## Project Trello Board\n",
        "[Click here to view the Trello board](https://trello.com/invite/b/66e85b8f867edb1344587d3e/ATTI3e824bbd51631c2c55a03c6d47c69eae09F6EFA3/project-avacado-prices)\n",
        "\n"
      ],
      "metadata": {
        "id": "iJlqTstxYv1L"
      }
    },
    {
      "cell_type": "markdown",
      "metadata": {
        "id": "5sXetPdv_qmW"
      },
      "source": [
        "---\n",
        "<a href=#one></a>\n",
        "## **Importing Packages**\n",
        "<a href=#cont>Back to Table of Contents</a>\n",
        "\n",
        "* **Purpose:** Set up the Python environment with necessary libraries and tools.\n",
        "* **Details:** List and import all the Python packages that will be used throughout the project such as Pandas for data manipulation, Matplotlib/Seaborn for visualization, scikit-learn for modeling, etc.\n",
        "---"
      ]
    },
    {
      "cell_type": "code",
      "execution_count": null,
      "metadata": {
        "id": "r8jSwYYU_qmX",
        "colab": {
          "base_uri": "https://localhost:8080/"
        },
        "outputId": "aadfc8fc-f406-4ab1-a134-65ad33a52a46"
      },
      "outputs": [
        {
          "output_type": "stream",
          "name": "stdout",
          "text": [
            "Packages successfully imported!\n"
          ]
        }
      ],
      "source": [
        "# Importing essential packages for data manipulation, visualization, and modeling\n",
        "\n",
        "import pandas as pd        # For data manipulation and analysis\n",
        "import numpy as np         # For numerical operations\n",
        "import matplotlib.pyplot as plt  # For creating visualizations\n",
        "import seaborn as sns      # For statistical data visualization\n",
        "\n",
        "from sklearn.model_selection import train_test_split  # For splitting data into training and testing sets\n",
        "from sklearn.linear_model import LinearRegression     # For building linear regression models\n",
        "from sklearn.metrics import mean_squared_error, r2_score  # For evaluating model performance\n",
        "\n",
        "import statsmodels.api as sm  # For advanced statistical modeling, including time series analysis\n",
        "from datetime import datetime  # For handling date and time data\n",
        "\n",
        "# Setting the visual style for the plots\n",
        "sns.set(style=\"whitegrid\")\n",
        "\n",
        "# Display a message to confirm that packages are imported\n",
        "print(\"Packages successfully imported!\")"
      ]
    },
    {
      "cell_type": "markdown",
      "metadata": {
        "id": "tgFoNkYc_qmX"
      },
      "source": [
        "---\n",
        "<a href=#two></a>\n",
        "## **Data Collection and Description**\n",
        "<a href=#cont>Back to Table of Contents</a>\n",
        "\n",
        "* **Purpose:** Describe how the data was collected and provide an overview of its characteristics.\n",
        "* **Details:** Mention sources of the data, the methods used for collection (e.g., APIs, web scraping, datasets from repositories), and a general description of the dataset including size, scope, and types of data available (e.g., numerical, categorical).\n",
        "---"
      ]
    },
    {
      "cell_type": "code",
      "execution_count": null,
      "metadata": {
        "id": "-o2NMRbu_qmY"
      },
      "outputs": [],
      "source": [
        "\n"
      ]
    },
    {
      "cell_type": "markdown",
      "metadata": {
        "id": "qpwOreUv_qmY"
      },
      "source": [
        "---\n",
        "<a href=#three></a>\n",
        "## **Loading Data**\n",
        "<a href=#cont>Back to Table of Contents</a>\n",
        "\n",
        "* **Purpose:** Load the data into the notebook for manipulation and analysis.\n",
        "* **Details:** Show the code used to load the data and display the first few rows to give a sense of what the raw data looks like.\n",
        "---"
      ]
    },
    {
      "cell_type": "code",
      "execution_count": null,
      "metadata": {
        "colab": {
          "base_uri": "https://localhost:8080/"
        },
        "id": "DFjnAqh__qmY",
        "outputId": "81ce9cbb-9a6c-448b-cf72-04d93a69f696"
      },
      "outputs": [
        {
          "output_type": "stream",
          "name": "stdout",
          "text": [
            "<class 'pandas.core.frame.DataFrame'>\n",
            "RangeIndex: 53415 entries, 0 to 53414\n",
            "Data columns (total 12 columns):\n",
            " #   Column        Non-Null Count  Dtype  \n",
            "---  ------        --------------  -----  \n",
            " 0   Date          53415 non-null  object \n",
            " 1   AveragePrice  53415 non-null  float64\n",
            " 2   TotalVolume   53415 non-null  float64\n",
            " 3   plu4046       53415 non-null  float64\n",
            " 4   plu4225       53415 non-null  float64\n",
            " 5   plu4770       53415 non-null  float64\n",
            " 6   TotalBags     53415 non-null  float64\n",
            " 7   SmallBags     41025 non-null  float64\n",
            " 8   LargeBags     41025 non-null  float64\n",
            " 9   XLargeBags    41025 non-null  float64\n",
            " 10  type          53415 non-null  object \n",
            " 11  region        53415 non-null  object \n",
            "dtypes: float64(9), object(3)\n",
            "memory usage: 4.9+ MB\n",
            "None\n",
            "         Date  AveragePrice  TotalVolume    plu4046    plu4225   plu4770  \\\n",
            "0  2015-01-04          1.22     40873.28    2819.50   28287.42     49.90   \n",
            "1  2015-01-04          1.79      1373.95      57.42     153.88      0.00   \n",
            "2  2015-01-04          1.00    435021.49  364302.39   23821.16     82.15   \n",
            "3  2015-01-04          1.76      3846.69    1500.15     938.35      0.00   \n",
            "4  2015-01-04          1.08    788025.06   53987.31  552906.04  39995.03   \n",
            "\n",
            "   TotalBags  SmallBags  LargeBags  XLargeBags          type  \\\n",
            "0    9716.46    9186.93     529.53         0.0  conventional   \n",
            "1    1162.65    1162.65       0.00         0.0       organic   \n",
            "2   46815.79   16707.15   30108.64         0.0  conventional   \n",
            "3    1408.19    1071.35     336.84         0.0       organic   \n",
            "4  141136.68  137146.07    3990.61         0.0  conventional   \n",
            "\n",
            "                region  \n",
            "0               Albany  \n",
            "1               Albany  \n",
            "2              Atlanta  \n",
            "3              Atlanta  \n",
            "4  BaltimoreWashington  \n"
          ]
        }
      ],
      "source": [
        "# Load the dataset\n",
        "file_path = 'Avocado_HassAvocadoBoard_20152023v1.0.1.csv'\n",
        "avocado_data = pd.read_csv(file_path)\n",
        "\n",
        "# Display basic information about the dataset\n",
        "print(avocado_data.info())\n",
        "\n",
        "# Show the first few rows of the dataset\n",
        "print(avocado_data.head())"
      ]
    },
    {
      "cell_type": "markdown",
      "metadata": {
        "id": "8eZ-Xh0X_qmY"
      },
      "source": [
        "---\n",
        "<a href=#four></a>\n",
        "## **Data Cleaning and Filtering**\n",
        "<a href=#cont>Back to Table of Contents</a>\n",
        "\n",
        "Before we analyze the avocado data, we need to clean it up. This means fixing any issues in the dataset, like filling in missing information, removing incorrect data, and making sure everything is in a consistent format. This will help us get accurate insights from the data."
      ]
    },
    {
      "cell_type": "code",
      "execution_count": null,
      "metadata": {
        "id": "olPh2UrN_qmY",
        "colab": {
          "base_uri": "https://localhost:8080/"
        },
        "outputId": "14c5069f-8fee-4fe5-e077-4491addffff9"
      },
      "outputs": [
        {
          "output_type": "stream",
          "name": "stdout",
          "text": [
            "Missing values in each column:\n",
            "Date                0\n",
            "AveragePrice        0\n",
            "TotalVolume         0\n",
            "plu4046             0\n",
            "plu4225             0\n",
            "plu4770             0\n",
            "TotalBags           0\n",
            "SmallBags       12390\n",
            "LargeBags       12390\n",
            "XLargeBags      12390\n",
            "type                0\n",
            "region              0\n",
            "dtype: int64\n"
          ]
        }
      ],
      "source": [
        "# Check for missing values\n",
        "print(\"Missing values in each column:\")\n",
        "print(avocado_data.isnull().sum())"
      ]
    },
    {
      "cell_type": "markdown",
      "source": [
        "We first looked at the dataset to see if there were any gaps or missing information. We found that some columns (like the number of small, large, and extra-large avocado bags) had missing values.\n",
        "\n",
        "We filled these missing values with zeros, assuming that when the data was missing, no bags were sold in those sizes."
      ],
      "metadata": {
        "id": "AJO_EiROvEYZ"
      }
    },
    {
      "cell_type": "code",
      "source": [
        "# Filling missing values with zeros\n",
        "avocado_data_filled = avocado_data.fillna({'SmallBags': 0, 'LargeBags': 0, 'XLargeBags': 0})\n",
        "\n",
        "print(f\"Dataset shape after filling missing values with zeros: {avocado_data_filled.shape}\")"
      ],
      "metadata": {
        "colab": {
          "base_uri": "https://localhost:8080/"
        },
        "id": "XdoXuC2xm_8q",
        "outputId": "2bbbb33c-9ace-4e00-e4e7-ed6c7bd60814"
      },
      "execution_count": null,
      "outputs": [
        {
          "output_type": "stream",
          "name": "stdout",
          "text": [
            "Dataset shape after filling missing values with zeros: (53415, 12)\n"
          ]
        }
      ]
    },
    {
      "cell_type": "code",
      "source": [
        "numerical_cols = avocado_data_filled.select_dtypes(include=[np.number])\n",
        "\n",
        "# Calculate Q1 (25th percentile) and Q3 (75th percentile)\n",
        "Q1 = numerical_cols.quantile(0.25)\n",
        "Q3 = numerical_cols.quantile(0.75)\n",
        "IQR = Q3 - Q1"
      ],
      "metadata": {
        "id": "aFYvB8A9nodb"
      },
      "execution_count": null,
      "outputs": []
    },
    {
      "cell_type": "code",
      "source": [
        "# Filter the rows that are not outliers\n",
        "avocado_data_filtered = avocado_data_filled[~((numerical_cols < (Q1 - 1.5 * IQR)) | (numerical_cols > (Q3 + 1.5 * IQR))).any(axis=1)]\n",
        "\n",
        "print(f\"Dataset shape after removing outliers: {avocado_data_filtered.shape}\")"
      ],
      "metadata": {
        "colab": {
          "base_uri": "https://localhost:8080/"
        },
        "id": "rNLzE2pCpLIi",
        "outputId": "2bc65f99-91fa-4d1e-9ed2-5d486a2c15cd"
      },
      "execution_count": null,
      "outputs": [
        {
          "output_type": "stream",
          "name": "stdout",
          "text": [
            "Dataset shape after removing outliers: (30506, 12)\n"
          ]
        }
      ]
    },
    {
      "cell_type": "markdown",
      "source": [
        "\n",
        "Outliers are extreme values that don't match the typical data. These values can sometimes distort our analysis, so we check for them and remove them if necessary.\n",
        "\n",
        "We removed any rows that had unusual values using a method that focuses on finding values that are far from the usual range (called the Interquartile Range or IQR). This reduced the number of rows significantly, which means there were many extreme values."
      ],
      "metadata": {
        "id": "b-orvSvDvT6J"
      }
    },
    {
      "cell_type": "code",
      "source": [
        "# Check for incorrect values (e.g., negative prices or volumes)\n",
        "invalid_rows = avocado_data_filtered[(avocado_data_filtered['AveragePrice'] < 0) | (avocado_data_filtered['TotalVolume'] < 0)]\n",
        "print(\"Rows with invalid values (negative prices/volumes):\")\n",
        "print(invalid_rows)\n",
        "\n",
        "# Remove rows with invalid values\n",
        "avocado_data_filtered = avocado_data_filtered[(avocado_data_filtered['AveragePrice'] >= 0) & (avocado_data_filtered['TotalVolume'] >= 0)]\n"
      ],
      "metadata": {
        "colab": {
          "base_uri": "https://localhost:8080/"
        },
        "id": "mN8N4JuJpkdZ",
        "outputId": "326bd300-822f-4b7f-8c46-f207ba51b475"
      },
      "execution_count": null,
      "outputs": [
        {
          "output_type": "stream",
          "name": "stdout",
          "text": [
            "Rows with invalid values (negative prices/volumes):\n",
            "Empty DataFrame\n",
            "Columns: [Date, AveragePrice, TotalVolume, plu4046, plu4225, plu4770, TotalBags, SmallBags, LargeBags, XLargeBags, type, region]\n",
            "Index: []\n"
          ]
        }
      ]
    },
    {
      "cell_type": "markdown",
      "source": [
        "\n",
        "We made sure there were no impossible values, like negative prices or negative sales volumes (since we can't sell negative amounts of avocados).\n",
        "\n",
        "Fortunately, there were no such errors in our dataset, so we didn't need to remove any rows based on this."
      ],
      "metadata": {
        "id": "G0y2V0mCvcTf"
      }
    },
    {
      "cell_type": "code",
      "source": [
        "# Filter data based on a specific condition\n",
        "# filter to only focus on conventional avocado sales\n",
        "avocado_data_conventional = avocado_data_filtered[avocado_data_filtered['type'] == 'conventional']\n",
        "\n",
        "# Display information about the final cleaned dataset\n",
        "print(avocado_data_conventional.info())\n",
        "print(avocado_data_conventional.head())\n"
      ],
      "metadata": {
        "colab": {
          "base_uri": "https://localhost:8080/"
        },
        "id": "AmClblBippoK",
        "outputId": "306b68d6-c2c4-42fa-be04-d3073c803948"
      },
      "execution_count": null,
      "outputs": [
        {
          "output_type": "stream",
          "name": "stdout",
          "text": [
            "<class 'pandas.core.frame.DataFrame'>\n",
            "Index: 8144 entries, 0 to 53354\n",
            "Data columns (total 12 columns):\n",
            " #   Column        Non-Null Count  Dtype  \n",
            "---  ------        --------------  -----  \n",
            " 0   Date          8144 non-null   object \n",
            " 1   AveragePrice  8144 non-null   float64\n",
            " 2   TotalVolume   8144 non-null   float64\n",
            " 3   plu4046       8144 non-null   float64\n",
            " 4   plu4225       8144 non-null   float64\n",
            " 5   plu4770       8144 non-null   float64\n",
            " 6   TotalBags     8144 non-null   float64\n",
            " 7   SmallBags     8144 non-null   float64\n",
            " 8   LargeBags     8144 non-null   float64\n",
            " 9   XLargeBags    8144 non-null   float64\n",
            " 10  type          8144 non-null   object \n",
            " 11  region        8144 non-null   object \n",
            "dtypes: float64(9), object(3)\n",
            "memory usage: 827.1+ KB\n",
            "None\n",
            "          Date  AveragePrice  TotalVolume    plu4046   plu4225  plu4770  \\\n",
            "0   2015-01-04          1.22     40873.28    2819.50  28287.42    49.90   \n",
            "6   2015-01-04          1.01     80034.32   44562.12  24964.23  2752.35   \n",
            "78  2015-01-04          1.13    109215.00   48285.15  37562.78    34.10   \n",
            "94  2015-01-04          1.00     84612.39   26607.29  44341.92  3660.64   \n",
            "96  2015-01-04          1.15    198735.26  125713.89  34555.73    53.54   \n",
            "\n",
            "    TotalBags  SmallBags  LargeBags  XLargeBags          type   region  \n",
            "0     9716.46    9186.93     529.53         0.0  conventional   Albany  \n",
            "6     7755.62    6064.30    1691.32         0.0  conventional    Boise  \n",
            "78   23332.97   21582.97    1750.00         0.0  conventional  Roanoke  \n",
            "94   10002.54    9556.06     446.48         0.0  conventional  Spokane  \n",
            "96   38412.10   38400.99      11.11         0.0  conventional  StLouis  \n"
          ]
        }
      ]
    },
    {
      "cell_type": "markdown",
      "source": [
        "\n",
        "To narrow down our focus, we filtered the data to only look at \"conventional\" avocados, excluding \"organic\" avocados.\n",
        "\n",
        "We filtered the dataset to show only the sales of conventional avocados. This reduced the dataset further to focus on what's relevant."
      ],
      "metadata": {
        "id": "Gve13Z7vvk8P"
      }
    },
    {
      "cell_type": "code",
      "source": [
        "# Ensure 'Date' column is converted to datetime\n",
        "avocado_data_filtered.loc[:, 'Date'] = pd.to_datetime(avocado_data_filtered['Date'])\n",
        "\n",
        "# Filter for a specific region, e.g., 'California'\n",
        "avocado_data_filtered_region = avocado_data_filtered[avocado_data_filtered['region'] == 'California']\n",
        "\n",
        "# Filter for a specific time range, e.g., after '2020-01-01'\n",
        "avocado_data_filtered_region = avocado_data_filtered_region[avocado_data_filtered_region['Date'] >= '2020-01-01']\n",
        "\n",
        "# Display the results\n",
        "print(avocado_data_filtered_region.info())\n",
        "print(avocado_data_filtered_region.head())\n"
      ],
      "metadata": {
        "colab": {
          "base_uri": "https://localhost:8080/"
        },
        "id": "qY90RzQIrrad",
        "outputId": "df0f0a03-f693-480a-f215-f91a089580b7"
      },
      "execution_count": null,
      "outputs": [
        {
          "output_type": "stream",
          "name": "stdout",
          "text": [
            "<class 'pandas.core.frame.DataFrame'>\n",
            "Index: 157 entries, 29240 to 53363\n",
            "Data columns (total 12 columns):\n",
            " #   Column        Non-Null Count  Dtype         \n",
            "---  ------        --------------  -----         \n",
            " 0   Date          157 non-null    datetime64[ns]\n",
            " 1   AveragePrice  157 non-null    float64       \n",
            " 2   TotalVolume   157 non-null    float64       \n",
            " 3   plu4046       157 non-null    float64       \n",
            " 4   plu4225       157 non-null    float64       \n",
            " 5   plu4770       157 non-null    float64       \n",
            " 6   TotalBags     157 non-null    float64       \n",
            " 7   SmallBags     157 non-null    float64       \n",
            " 8   LargeBags     157 non-null    float64       \n",
            " 9   XLargeBags    157 non-null    float64       \n",
            " 10  type          157 non-null    object        \n",
            " 11  region        157 non-null    object        \n",
            "dtypes: datetime64[ns](1), float64(9), object(2)\n",
            "memory usage: 15.9+ KB\n",
            "None\n",
            "            Date  AveragePrice  TotalVolume   plu4046   plu4225  plu4770  \\\n",
            "29240 2020-01-06      1.779792    251868.12  21565.76  14176.89    17.22   \n",
            "29358 2020-01-12      1.862071    244015.05  25645.80  14060.85    27.86   \n",
            "29476 2020-01-19      1.866729    232470.14  23729.62  13183.22    30.26   \n",
            "29594 2020-01-26      1.797532    248786.41  17591.51  11622.14     1.42   \n",
            "29712 2020-02-02      1.758653    244921.26  14051.04  14772.88    23.49   \n",
            "\n",
            "       TotalBags  SmallBags  LargeBags  XLargeBags     type      region  \n",
            "29240   80878.78        0.0        0.0         0.0  organic  California  \n",
            "29358   73219.32        0.0        0.0         0.0  organic  California  \n",
            "29476   74063.89        0.0        0.0         0.0  organic  California  \n",
            "29594   78845.81        0.0        0.0         0.0  organic  California  \n",
            "29712   81671.91        0.0        0.0         0.0  organic  California  \n"
          ]
        }
      ]
    },
    {
      "cell_type": "markdown",
      "source": [
        "\n",
        "Next, we focused on avocado sales in California after January 2020. This helps us analyze how prices and sales volumes changed over time in a specific area.\n",
        "\n",
        "We filtered the data to include only the sales from California and only for the period after January 1, 2020."
      ],
      "metadata": {
        "id": "ClEs_4xTvwd4"
      }
    },
    {
      "cell_type": "code",
      "source": [
        "# Check for duplicate rows\n",
        "duplicate_rows = avocado_data_filtered_region.duplicated()\n",
        "print(f\"Number of duplicate rows: {duplicate_rows.sum()}\")\n",
        "\n",
        "# Remove duplicates if any\n",
        "avocado_data_filtered_region = avocado_data_filtered_region.drop_duplicates()\n"
      ],
      "metadata": {
        "colab": {
          "base_uri": "https://localhost:8080/"
        },
        "id": "EYC4VGaGs1Ge",
        "outputId": "7bde060e-3ab8-45bb-bbd8-659c8f180bac"
      },
      "execution_count": null,
      "outputs": [
        {
          "output_type": "stream",
          "name": "stdout",
          "text": [
            "Number of duplicate rows: 0\n"
          ]
        }
      ]
    },
    {
      "cell_type": "markdown",
      "source": [
        "\n",
        "Sometimes the same data can appear more than once by mistake. We checked to see if there were any duplicate rows.\n",
        "\n",
        "Luckily, there were no duplicates in the dataset, so we didn’t have to remove any rows."
      ],
      "metadata": {
        "id": "uHxzYggKv4WI"
      }
    },
    {
      "cell_type": "code",
      "source": [
        "# Example: Standardize 'region' column to lowercase and strip whitespace\n",
        "avocado_data_filtered_region['region'] = avocado_data_filtered_region['region'].str.lower().str.strip()\n"
      ],
      "metadata": {
        "id": "6Qo2mt1ls6ip"
      },
      "execution_count": null,
      "outputs": []
    },
    {
      "cell_type": "markdown",
      "source": [
        "\n",
        "To make sure everything is consistent, we standardized how the region names were written. For example, we ensured that all region names were in the same format (e.g., making sure \"california\" was written consistently as \"California\").\n",
        "\n",
        "We cleaned up the region names to ensure they were consistently formatted. This helps avoid errors later on."
      ],
      "metadata": {
        "id": "gCl9dkfgv9W9"
      }
    },
    {
      "cell_type": "code",
      "source": [
        "# Example: If 'region' column contains inconsistent labels, replace them\n",
        "avocado_data_filtered_region['region'] = avocado_data_filtered_region['region'].replace({\n",
        "    'california': 'California'\n",
        "})\n"
      ],
      "metadata": {
        "id": "Mte4OFVGs8wE"
      },
      "execution_count": null,
      "outputs": []
    },
    {
      "cell_type": "code",
      "source": [
        "# Convert 'Date' to datetime if not already done\n",
        "avocado_data_filtered_region['Date'] = pd.to_datetime(avocado_data_filtered_region['Date'])\n",
        "\n",
        "# Check if all columns have appropriate data types\n",
        "print(avocado_data_filtered_region.dtypes)\n"
      ],
      "metadata": {
        "colab": {
          "base_uri": "https://localhost:8080/"
        },
        "id": "WMJyDCMItMUe",
        "outputId": "81fbd068-cc40-4879-bc28-134d5545fa1d"
      },
      "execution_count": null,
      "outputs": [
        {
          "output_type": "stream",
          "name": "stdout",
          "text": [
            "Date            datetime64[ns]\n",
            "AveragePrice           float64\n",
            "TotalVolume              int64\n",
            "region                  object\n",
            "type                    object\n",
            "dtype: object\n"
          ]
        }
      ]
    },
    {
      "cell_type": "markdown",
      "source": [
        "Finally, we made sure that each column had the correct format. For example, dates should be recognized as dates, numbers should be treated as numbers, and text should remain text.\n",
        "\n",
        "We confirmed that all the columns had the correct data type, especially ensuring that the date column was recognized as a proper date format."
      ],
      "metadata": {
        "id": "tZ3DN73PwKHk"
      }
    },
    {
      "cell_type": "markdown",
      "metadata": {
        "id": "kmfFeM7g_qmY"
      },
      "source": [
        "---\n",
        "<a href=#five></a>\n",
        "## **Exploratory Data Analysis (EDA)**\n",
        "<a href=#cont>Back to Table of Contents</a>\n",
        "\n",
        "* **Purpose:** Explore and visualize the data to uncover patterns, trends, and relationships.\n",
        "* **Details:** Use statistics and visualizations to explore the data. This may include histograms, box plots, scatter plots, and correlation matrices. Discuss any significant findings.\n",
        "---\n"
      ]
    },
    {
      "cell_type": "code",
      "execution_count": null,
      "metadata": {
        "id": "Fh2UgEQ4_qmY"
      },
      "outputs": [],
      "source": [
        "#Please use code cells to code in and do not forget to comment your code."
      ]
    },
    {
      "cell_type": "markdown",
      "metadata": {
        "id": "DPHclFHa_qmZ"
      },
      "source": [
        "---\n",
        "<a href=#six></a>\n",
        "## **Modeling**\n",
        "<a href=#cont>Back to Table of Contents</a>\n",
        "\n",
        "* **Purpose:** Develop and train predictive or statistical models.\n",
        "* **Details:** Describe the choice of models, feature selection and engineering processes, and show how the models are trained. Include code for setting up the models and explanations of the model parameters.\n",
        "---\n"
      ]
    },
    {
      "cell_type": "code",
      "execution_count": null,
      "metadata": {
        "id": "3T8Y6I60_qmZ"
      },
      "outputs": [],
      "source": [
        "#Please use code cells to code in and do not forget to comment your code."
      ]
    },
    {
      "cell_type": "markdown",
      "metadata": {
        "id": "c0njaAPc_qmZ"
      },
      "source": [
        "---\n",
        "<a href=#seven></a>\n",
        "## **Evaluation and Validation**\n",
        "<a href=#cont>Back to Table of Contents</a>\n",
        "\n",
        "* **Purpose:** Evaluate and validate the effectiveness and accuracy of the models.\n",
        "* **Details:** Present metrics used to evaluate the models, such as accuracy, precision, recall, F1-score, etc. Discuss validation techniques employed, such as cross-validation or train/test split.\n",
        "---"
      ]
    },
    {
      "cell_type": "code",
      "execution_count": null,
      "metadata": {
        "id": "0VAJKtPW_qmZ"
      },
      "outputs": [],
      "source": [
        "#Please use code cells to code in and do not forget to comment your code."
      ]
    },
    {
      "cell_type": "markdown",
      "metadata": {
        "id": "YJEjEJ9-_qmZ"
      },
      "source": [
        "---\n",
        "<a href=#eight></a>\n",
        "## **Final Model**\n",
        "<a href=#cont>Back to Table of Contents</a>\n",
        "\n",
        "* **Purpose:** Present the final model and its performance.\n",
        "* **Details:** Highlight the best-performing model and discuss its configuration, performance, and why it was chosen over others.\n",
        "---\n"
      ]
    },
    {
      "cell_type": "code",
      "execution_count": null,
      "metadata": {
        "id": "A5QCRB2c_qmZ"
      },
      "outputs": [],
      "source": [
        "#Please use code cells to code in and do not forget to comment your code."
      ]
    },
    {
      "cell_type": "markdown",
      "metadata": {
        "id": "OC-968sW_qma"
      },
      "source": [
        "---\n",
        "<a href=#nine></a>\n",
        "## **Conclusion and Future Work**\n",
        "<a href=#cont>Back to Table of Contents</a>\n",
        "\n",
        "* **Purpose:** Summarize the findings and discuss future directions.\n",
        "* **Details:** Conclude with a summary of the results, insights gained, limitations of the study, and suggestions for future projects or improvements in methodology or data collection.\n",
        "---\n"
      ]
    },
    {
      "cell_type": "code",
      "execution_count": null,
      "metadata": {
        "id": "Q7QAoYUT_qma"
      },
      "outputs": [],
      "source": [
        "#Please use code cells to code in and do not forget to comment your code."
      ]
    },
    {
      "cell_type": "markdown",
      "metadata": {
        "id": "btps9DM7_qma"
      },
      "source": [
        "---\n",
        "<a href=#ten></a>\n",
        "## **References**\n",
        "<a href=#cont>Back to Table of Contents</a>\n",
        "\n",
        "* **Purpose:** Provide citations and sources of external content.\n",
        "* **Details:** List all the references and sources consulted during the project, including data sources, research papers, and documentation for tools and libraries used.\n",
        "---"
      ]
    },
    {
      "cell_type": "code",
      "execution_count": null,
      "metadata": {
        "id": "2mC3Cq3B_qma"
      },
      "outputs": [],
      "source": [
        "#Please use code cells to code in and do not forget to comment your code."
      ]
    },
    {
      "cell_type": "markdown",
      "metadata": {
        "id": "kMbFOISe_qma"
      },
      "source": [
        "## Additional Sections to Consider\n",
        "\n",
        "* ### Appendix:\n",
        "For any additional code, detailed tables, or extended data visualizations that are supplementary to the main content.\n",
        "\n",
        "* ### Contributors:\n",
        "If this is a group project, list the contributors and their roles or contributions to the project.\n"
      ]
    }
  ],
  "metadata": {
    "language_info": {
      "name": "python"
    },
    "orig_nbformat": 4,
    "colab": {
      "provenance": []
    },
    "kernelspec": {
      "name": "python3",
      "display_name": "Python 3"
    }
  },
  "nbformat": 4,
  "nbformat_minor": 0
}